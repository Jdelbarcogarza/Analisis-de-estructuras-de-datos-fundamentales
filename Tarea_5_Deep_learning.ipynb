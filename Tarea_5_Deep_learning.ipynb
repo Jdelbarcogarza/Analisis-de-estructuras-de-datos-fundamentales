{
  "nbformat": 4,
  "nbformat_minor": 0,
  "metadata": {
    "colab": {
      "provenance": [],
      "include_colab_link": true
    },
    "kernelspec": {
      "name": "python3",
      "display_name": "Python 3"
    },
    "language_info": {
      "name": "python"
    }
  },
  "cells": [
    {
      "cell_type": "markdown",
      "metadata": {
        "id": "view-in-github",
        "colab_type": "text"
      },
      "source": [
        "<a href=\"https://colab.research.google.com/github/Jdelbarcogarza/Analisis-de-estructuras-de-datos-fundamentales/blob/master/Tarea_5_Deep_learning.ipynb\" target=\"_parent\"><img src=\"https://colab.research.google.com/assets/colab-badge.svg\" alt=\"Open In Colab\"/></a>"
      ]
    },
    {
      "cell_type": "markdown",
      "source": [
        "# Introducción\n",
        "\n",
        "En este análisis se explorará el campo de redes neuronales convolutivas en su parte tanto teórico como práctico. Se Utilizará la librería de Python de  TensorFlow/Keras para el desarrollo de las redes neuronales. Aunado a esto, se reflexionará sobre los resultados obtentenidos en cada uno de los 4 experimentos desarrollados en este trabajo."
      ],
      "metadata": {
        "id": "9ruiAavGCS9a"
      }
    },
    {
      "cell_type": "markdown",
      "source": [
        "# Experimento 1\n",
        "\n",
        "Modelo de Red Neuronal Convolutiva con la siguiente arquitectura:\n",
        "\n",
        "* Capa convolutiva de 32 fitros con kernel de 3x3 y activación ReLU.\n",
        "\n",
        "* Capa de Max pooling con pool de tamaño 2x2\n",
        "\n",
        "* Capa de aplanamiento\n",
        "\n",
        "* Capa densa de 128 unidades con activación ReLU\n",
        "\n",
        "* Capa densa con activación `softmax`\n",
        "\n",
        "El experimento a realizar será la correcta categorización de imágenes del dataset de CIFAR10. Este conjunto de datos está compuesto por 60000 imágenes 32x32 de divididas en 10 clases, cada clase contando con 6000 imágenes. Entre estas imágenes, se tienen fotos de: aviones, automóviles, pájaros, gatos, ciervos, perros, ranas, caballos, barcos y camiones. [1] El objetivo de este experimento es entrenar un modelo que pueda, con la arquitectura de red neuronal anterior, conseguir un nivel base de precisión para ir iterando sobre el modelo.\n",
        "\n",
        "A continuación, utilizando la librería de tensorflow, se creará la arquitectura del modelo y se importa el dataset a utilizar."
      ],
      "metadata": {
        "id": "2kKMLpXRXRNZ"
      }
    },
    {
      "cell_type": "code",
      "execution_count": null,
      "metadata": {
        "colab": {
          "base_uri": "https://localhost:8080/"
        },
        "id": "BDrDUIUIaJgl",
        "outputId": "c3ff10c6-ee99-4348-db89-07266f88b44b"
      },
      "outputs": [
        {
          "output_type": "stream",
          "name": "stdout",
          "text": [
            "Model: \"sequential_11\"\n",
            "_________________________________________________________________\n",
            " Layer (type)                Output Shape              Param #   \n",
            "=================================================================\n",
            " conv2d_11 (Conv2D)          (None, 30, 30, 32)        896       \n",
            "                                                                 \n",
            " dropout_20 (Dropout)        (None, 30, 30, 32)        0         \n",
            "                                                                 \n",
            " max_pooling2d_11 (MaxPooli  (None, 15, 15, 32)        0         \n",
            " ng2D)                                                           \n",
            "                                                                 \n",
            " dropout_21 (Dropout)        (None, 15, 15, 32)        0         \n",
            "                                                                 \n",
            " flatten_11 (Flatten)        (None, 7200)              0         \n",
            "                                                                 \n",
            " dropout_22 (Dropout)        (None, 7200)              0         \n",
            "                                                                 \n",
            " dense_22 (Dense)            (None, 128)               921728    \n",
            "                                                                 \n",
            " dropout_23 (Dropout)        (None, 128)               0         \n",
            "                                                                 \n",
            " dense_23 (Dense)            (None, 10)                1290      \n",
            "                                                                 \n",
            " activation (Activation)     (None, 10)                0         \n",
            "                                                                 \n",
            "=================================================================\n",
            "Total params: 923914 (3.52 MB)\n",
            "Trainable params: 923914 (3.52 MB)\n",
            "Non-trainable params: 0 (0.00 Byte)\n",
            "_________________________________________________________________\n"
          ]
        }
      ],
      "source": [
        "import tensorflow as tf\n",
        "from tensorflow.keras.models import Sequential\n",
        "from tensorflow.keras.layers import Conv2D, MaxPooling2D, Flatten, Dense, Dropout, Activation\n",
        "from tensorflow.keras.datasets import cifar10\n",
        "from tensorflow.keras.utils import to_categorical\n",
        "import numpy as np\n",
        "\n",
        "# Cargar el conjunto de datos CIFAR-10\n",
        "(x_train, y_train), (x_test, y_test) = cifar10.load_data()\n",
        "\n",
        "# network (hyper-)parameters\n",
        "hidden_units = 128\n",
        "dropout = 0.45\n",
        "batch_size = 128\n",
        "# compute the number of labels: [0, 1, ..., 9]\n",
        "num_labels = len(np.unique(y_train))\n",
        "\n",
        "# convert to one-hot vector: e.g., 2 -> [0, 0, 1, ..., 0]\n",
        "y_train = to_categorical(y_train)\n",
        "y_test = to_categorical(y_test)\n",
        "\n",
        "# Normalizar las imágenes de entrada: ajustar los valores de los píxeles de las imágenes\n",
        "x_train = x_train.astype('float32') / 255.0\n",
        "x_test = x_test.astype('float32') / 255.0\n",
        "\n",
        "# Definir la arquitectura del modelo\n",
        "model = Sequential()\n",
        "\n",
        "# Convolutional layer with 32 filters, 3×3 kernel size, and ReLU activation.\n",
        "model.add(Conv2D(32, (3, 3), activation='relu', input_shape=(32, 32, 3)))\n",
        "model.add(Dropout(dropout))\n",
        "\n",
        "# MaxPooling layer with 2×2 pool size.\n",
        "model.add(MaxPooling2D(pool_size=(2, 2)))\n",
        "model.add(Dropout(dropout))\n",
        "\n",
        "# Flatten layer\n",
        "model.add(Flatten())\n",
        "model.add(Dropout(dropout))\n",
        "\n",
        "# Dense layer with 128 units and ReLU activation.\n",
        "model.add(Dense(hidden_units, activation='relu'))\n",
        "model.add(Dropout(dropout))\n",
        "\n",
        "# --> output layer\n",
        "model.add(Dense(num_labels))\n",
        "model.add(Activation('softmax'))\n",
        "\n",
        "model.summary()"
      ]
    },
    {
      "cell_type": "markdown",
      "source": [
        "Después de haber construido la red neuronal, el resultaod de la función `summary()` no proporciona la siguiente información:\n",
        "\n",
        "En la columna de Layer, se nos indica qué capa estamos analizando en una fila en específico. En la columna de `Output Shape` se nos muestra las dimensiones de la matriz que sale después de haber pasado por cada capa. En tercera instancia se tienen los parámetros que procesa cada una de las capas. Como podemos ver, en la capa oculta de nuestra arquitectura maneja la mayor cantidad de parámetros.\n",
        "\n",
        "En el resumen del final, podemos ver que de los `923914` parámeros de nuestra arquitectura, todos son entrenables. Estos mismos parámetros son los que durante el entrenamiento se estarán actualizando para mejorar el poder predictivo del modelo.\n",
        "\n",
        "Es de valor recordar que en una tipica red neuronal, las conexiones entre neuronas, pesos y el \"bias\" son componentes que funcionan juntos para calcular un resultado. En el caso de los parámetros no entrenables, estos no se actualizan durante el entrenamiento [2]. Para este modelo no se tiene ningún parámetro no entrenable.\n",
        "\n",
        "### Función de optimización y pérdida\n",
        "\n",
        "Seguido de la creación del modelo, se tiene la etapa de optimización y función de pérdida del mismo.\n",
        "\n",
        "#### Entropía Cruzada\n",
        "Comenzando con la función de pérdida de entropía cruzada categoríca, o \"categorical crossentropy\" en inglés. Se utiliza esta función de pérdida debido a que los \"labels\" de las imágenes están internamente codificados como \"one-hot vectors\".\n",
        "\n",
        "Los la codificación de tipo \"one-hot\" es una estrategia para precisamente codificar información categórica de forma numérica, puesto que los modelos de inteligencia artificial solo comprenden números [3]. La codificación de la información permite hacer una tranformación a los datos para que el valor categorico no se pierda a la vez que este mismo valor es pasado a un \"lenguaje\" que el modelo entiende.\n",
        "\n",
        "El objetivo de la \"categorical cross-entropy\" es encontrar discrepancias entre la distribución de probabilidad predecida y las categogrías o \"labels\" codificadas como vectores \"one-hot\", permitiendo diferenciar una clase de objeto de otra [4].\n",
        "\n",
        "Aplicado al contexto del modelo, con la entropía cruzada categórica se tiene una distribución de probabilidades. Esto se puede representar como una matríz con nueve ceros y un número uno. Esta matriz se traduce a que la probabilida de que un objeto de muestra dado al modelo es 100% probable que tenga un resultado, y es 0% probable que este objeto a la vez uno de los otros nueve elementso posibles. Esto hace sentido ya que el objetivo del modelo es precismante detectar qué tipo de objeto estamos proporcionando de los diez tipos encontrados en el conjunto de datos CIFAR10.\n",
        "\n",
        "\n",
        "#### Adam\n",
        "Pasando a la parte de optimización, esta arquitectura del modelo utiliza una función de optimizació llamada \"Adam\" (Adaptive moment estimation) es una función de gradiente descendente utilizada para actualizar los pesos de la red neuronal convolutiva de forma iterativa [5]. Es decir, todos los parámetros entrenables presentes en nuestro modelo, serán actualizados por esta función de optimización.\n",
        "\n",
        "Dentro de las ventajas de utilizar la función Adam, se encuentran:\n",
        "* Facilidad de implementación\n",
        "* Computacionalmente eficiente\n",
        "* Funciona bien con problemas que cuentan con muchos parámetros.\n",
        "* Poca necesidad de memoria\n",
        "\n",
        "Adam funciona aplicando dos técnicas estocásticas de gradiente descendente. La primera siendo \"AdaGrad\" (Adaptive gradient Algorithm) y RMSProp (Root Mean Square Propagation). Al juntar estas dos técnicas, La función de Adaptive moment estimation ha probado ser muy buena para este tipo de problemas y es el algoritmo recomendado con redes neuronales convolutivas de acuerdo a especialistas en Stanford [5].\n"
      ],
      "metadata": {
        "id": "vMEquDZZz6kn"
      }
    },
    {
      "cell_type": "code",
      "source": [
        "# loss function for one-hot vector\n",
        "# use of adam optimizer\n",
        "# accuracy is good metric for classification tasks\n",
        "model.compile(loss='categorical_crossentropy',\n",
        "              optimizer='adam',\n",
        "              metrics=['accuracy'])\n",
        "\n",
        "# train the network\n",
        "history = model.fit(x_train, y_train, epochs=20, batch_size=batch_size, validation_split=0.2)\n",
        "\n"
      ],
      "metadata": {
        "colab": {
          "base_uri": "https://localhost:8080/"
        },
        "id": "XVJq7zzaVoMD",
        "outputId": "3c858ecc-d09c-4f81-e27d-455cf564f6af"
      },
      "execution_count": null,
      "outputs": [
        {
          "output_type": "stream",
          "name": "stdout",
          "text": [
            "Epoch 1/20\n",
            "313/313 [==============================] - 51s 159ms/step - loss: 1.7435 - accuracy: 0.3648 - val_loss: 1.5376 - val_accuracy: 0.4813\n",
            "Epoch 2/20\n",
            "313/313 [==============================] - 49s 156ms/step - loss: 1.4879 - accuracy: 0.4656 - val_loss: 1.4492 - val_accuracy: 0.5346\n",
            "Epoch 3/20\n",
            "313/313 [==============================] - 50s 160ms/step - loss: 1.4109 - accuracy: 0.4975 - val_loss: 1.3645 - val_accuracy: 0.5599\n",
            "Epoch 4/20\n",
            "313/313 [==============================] - 48s 154ms/step - loss: 1.3668 - accuracy: 0.5103 - val_loss: 1.3349 - val_accuracy: 0.5844\n",
            "Epoch 5/20\n",
            "313/313 [==============================] - 50s 158ms/step - loss: 1.3272 - accuracy: 0.5259 - val_loss: 1.2967 - val_accuracy: 0.5855\n",
            "Epoch 6/20\n",
            "313/313 [==============================] - 48s 154ms/step - loss: 1.2975 - accuracy: 0.5390 - val_loss: 1.2733 - val_accuracy: 0.6003\n",
            "Epoch 7/20\n",
            "313/313 [==============================] - 49s 156ms/step - loss: 1.2720 - accuracy: 0.5457 - val_loss: 1.2681 - val_accuracy: 0.6020\n",
            "Epoch 8/20\n",
            "313/313 [==============================] - 48s 153ms/step - loss: 1.2521 - accuracy: 0.5530 - val_loss: 1.2315 - val_accuracy: 0.6101\n",
            "Epoch 9/20\n",
            "313/313 [==============================] - 49s 156ms/step - loss: 1.2348 - accuracy: 0.5609 - val_loss: 1.2568 - val_accuracy: 0.5829\n",
            "Epoch 10/20\n",
            "313/313 [==============================] - 51s 162ms/step - loss: 1.2165 - accuracy: 0.5664 - val_loss: 1.2455 - val_accuracy: 0.6069\n",
            "Epoch 11/20\n",
            "313/313 [==============================] - 48s 152ms/step - loss: 1.2050 - accuracy: 0.5720 - val_loss: 1.1629 - val_accuracy: 0.6249\n",
            "Epoch 12/20\n",
            "313/313 [==============================] - 49s 158ms/step - loss: 1.1893 - accuracy: 0.5781 - val_loss: 1.1531 - val_accuracy: 0.6266\n",
            "Epoch 13/20\n",
            "313/313 [==============================] - 48s 154ms/step - loss: 1.1846 - accuracy: 0.5792 - val_loss: 1.1436 - val_accuracy: 0.6280\n",
            "Epoch 14/20\n",
            "313/313 [==============================] - 49s 158ms/step - loss: 1.1704 - accuracy: 0.5799 - val_loss: 1.1299 - val_accuracy: 0.6355\n",
            "Epoch 15/20\n",
            "313/313 [==============================] - 48s 154ms/step - loss: 1.1663 - accuracy: 0.5838 - val_loss: 1.1640 - val_accuracy: 0.6317\n",
            "Epoch 16/20\n",
            "313/313 [==============================] - 50s 158ms/step - loss: 1.1558 - accuracy: 0.5866 - val_loss: 1.1597 - val_accuracy: 0.6264\n",
            "Epoch 17/20\n",
            "313/313 [==============================] - 48s 153ms/step - loss: 1.1480 - accuracy: 0.5911 - val_loss: 1.1358 - val_accuracy: 0.6397\n",
            "Epoch 18/20\n",
            "313/313 [==============================] - 49s 158ms/step - loss: 1.1461 - accuracy: 0.5925 - val_loss: 1.1280 - val_accuracy: 0.6373\n",
            "Epoch 19/20\n",
            "313/313 [==============================] - 49s 156ms/step - loss: 1.1267 - accuracy: 0.5991 - val_loss: 1.0995 - val_accuracy: 0.6450\n",
            "Epoch 20/20\n",
            "313/313 [==============================] - 48s 155ms/step - loss: 1.1201 - accuracy: 0.6030 - val_loss: 1.1086 - val_accuracy: 0.6446\n"
          ]
        }
      ]
    },
    {
      "cell_type": "code",
      "source": [
        "# validate the model on test dataset to determine generalization\n",
        "_, acc = model.evaluate(x_test, y_test, batch_size=batch_size, verbose=False)\n",
        "print(\"\\nTest accuracy: %.1f%%\" % (100.0 * acc))"
      ],
      "metadata": {
        "colab": {
          "base_uri": "https://localhost:8080/"
        },
        "id": "4UbafTxMYHPC",
        "outputId": "8bc09b5a-a2c8-4982-92fb-93018e08c443"
      },
      "execution_count": null,
      "outputs": [
        {
          "output_type": "stream",
          "name": "stdout",
          "text": [
            "\n",
            "Test accuracy: 64.3%\n"
          ]
        }
      ]
    },
    {
      "cell_type": "markdown",
      "source": [
        "Despés de haber entrenado el modelo anterior con las imágenes del dataset CIFAR10, se tiene una precisión del 64.3% en la correcta categorización de las imágenes con la arquitectura planteada inicialmente.\n"
      ],
      "metadata": {
        "id": "MnpD808kyO1O"
      }
    },
    {
      "cell_type": "code",
      "source": [
        "import matplotlib.pyplot as plt\n",
        "\n",
        "print(history.params)\n",
        "print(history.history.keys())\n",
        "\n",
        "_, axs = plt.subplots(2, 1, sharex=True, figsize=(8, 5))\n",
        "axs[0].plot(history.history['loss'], marker='.', linewidth=1)\n",
        "axs[0].plot(history.history['val_loss'], marker='.', linewidth=1)\n",
        "axs[0].set_ylabel(r\"Loss\")\n",
        "axs[1].plot(history.history['accuracy'], marker='.', linewidth=1)\n",
        "axs[1].plot(history.history['val_accuracy'], marker='.', linewidth=1)\n",
        "axs[1].set_ylabel(r\"Accuracy\")\n",
        "axs[1].set_xlabel(r\"Epoch\")\n",
        "axs[0].legend([\"train\", \"validation\"], loc=\"upper right\")\n",
        "plt.show()"
      ],
      "metadata": {
        "colab": {
          "base_uri": "https://localhost:8080/",
          "height": 499
        },
        "id": "aAXf9SL5WR9M",
        "outputId": "7c768128-6113-444e-a857-56f39859294e"
      },
      "execution_count": null,
      "outputs": [
        {
          "output_type": "stream",
          "name": "stdout",
          "text": [
            "{'verbose': 1, 'epochs': 20, 'steps': 313}\n",
            "dict_keys(['loss', 'accuracy', 'val_loss', 'val_accuracy'])\n"
          ]
        },
        {
          "output_type": "display_data",
          "data": {
            "text/plain": [
              "<Figure size 800x500 with 2 Axes>"
            ],
            "image/png": "[encoded data removed]"
          },
          "metadata": {}
        }
      ]
    },
    {
      "cell_type": "markdown",
      "source": [
        "Tomando en cuenta las gráficas de pérdida y de precisión del modelo que se tiene hasta el momento, podemos obtener las siguientes conclusiones:\n",
        "\n",
        "La pérdida disminuye constantemente, por lo que podemos interpretar que el modelo efectivamente está aprendiendo conforme pasan las épocas.\n",
        "\n",
        "Para la parte de precisión, se puede observar que la curva de entrenamiento conforme pasan las épocas se va ajustando a a la curva naranja de validación. Esto es algo muy bueno pues el modelo se hace más precisio conforme pasa el tiempo.\n",
        "\n",
        "Cabe recalcar que el hecho deque en la función de pérdida exista un ajuste preciso en la gráfica de entrenamiento, esto puede indicar que el modelo no logre un mayor precisión agregando más épocas en futuras iteraciones, por lo que se descartaría esa estrategia de momento. La siguiente estrategia será agregar más capas a la arquitectura del modelo para mejorar la precisión del modelo."
      ],
      "metadata": {
        "id": "-xSTjPY2IHf8"
      }
    },
    {
      "cell_type": "markdown",
      "source": [
        "# Experimento 2"
      ],
      "metadata": {
        "id": "qznHOwC8inPl"
      }
    },
    {
      "cell_type": "code",
      "source": [
        "import tensorflow as tf\n",
        "from tensorflow.keras.models import Sequential\n",
        "from tensorflow.keras.layers import Conv2D, MaxPooling2D, Flatten, Dense, Dropout, Activation, Permute, BatchNormalization\n",
        "from tensorflow.keras.datasets import cifar10\n",
        "from tensorflow.keras.utils import to_categorical\n",
        "import numpy as np\n",
        "\n",
        "# Cargar el conjunto de datos CIFAR-10\n",
        "(x_train, y_train), (x_test, y_test) = cifar10.load_data()\n",
        "\n",
        "# network (hyper-)parameters\n",
        "hidden_units = 128\n",
        "dropout = 0.45\n",
        "batch_size = 128\n",
        "# compute the number of labels: [0, 1, ..., 9]\n",
        "num_labels = len(np.unique(y_train))\n",
        "\n",
        "# convert to one-hot vector: e.g., 2 -> [0, 0, 1, ..., 0]\n",
        "y_train = to_categorical(y_train)\n",
        "y_test = to_categorical(y_test)\n",
        "\n",
        "# Normalizar las imágenes de entrada: ajustar los valores de los píxeles de las imágenes\n",
        "x_train = x_train.astype('float32') / 255.0\n",
        "x_test = x_test.astype('float32') / 255.0\n",
        "\n",
        "# Definir la arquitectura del modelo\n",
        "model = Sequential()\n",
        "\n",
        "# Convolutional layer with 20 filters, 3×3 kernel size, and ReLU activation.\n",
        "model.add(Conv2D(20, (3, 3), activation='relu', input_shape=(32, 32, 3)))\n",
        "model.add(Dropout(dropout))\n",
        "\n",
        "# Permute layer: reordenar las dimensiones del tensor de salida\n",
        "# Por ejemplo, permutar (batch, height, width, channels) -> (batch, channels, height, width)\n",
        "model.add(Permute((3, 1, 2)))\n",
        "model.add(Dropout(dropout))\n",
        "\n",
        "# MaxPooling layer with 2×2 pool size.\n",
        "model.add(MaxPooling2D(pool_size=(2, 2)))\n",
        "model.add(Dropout(dropout))\n",
        "\n",
        "# Flatten layer\n",
        "model.add(Flatten())\n",
        "model.add(Dropout(dropout))\n",
        "\n",
        "\n",
        "\n",
        "# Dense layer with 128 units and ReLU activation.\n",
        "model.add(Dense(hidden_units, activation='relu'))\n",
        "model.add(BatchNormalization())  # Añadir capa de normalización\n",
        "model.add(Dropout(dropout))\n",
        "\n",
        "# Dense layer with 128 units and ReLU activation.\n",
        "model.add(Dense(hidden_units, activation='relu'))\n",
        "model.add(Dropout(dropout))\n",
        "\n",
        "# --> output layer\n",
        "model.add(Dense(num_labels))\n",
        "model.add(Activation('softmax'))\n",
        "\n",
        "model.summary()"
      ],
      "metadata": {
        "colab": {
          "base_uri": "https://localhost:8080/"
        },
        "id": "aLO1k09ziqTH",
        "outputId": "e06907a8-9747-4213-f7a3-3c1798202b90"
      },
      "execution_count": null,
      "outputs": [
        {
          "output_type": "stream",
          "name": "stdout",
          "text": [
            "Downloading data from https://www.cs.toronto.edu/~kriz/cifar-10-python.tar.gz\n",
            "170498071/170498071 [==============================] - 3s 0us/step\n",
            "Model: \"sequential\"\n",
            "_________________________________________________________________\n",
            " Layer (type)                Output Shape              Param #   \n",
            "=================================================================\n",
            " conv2d (Conv2D)             (None, 30, 30, 20)        560       \n",
            "                                                                 \n",
            " dropout (Dropout)           (None, 30, 30, 20)        0         \n",
            "                                                                 \n",
            " permute (Permute)           (None, 20, 30, 30)        0         \n",
            "                                                                 \n",
            " dropout_1 (Dropout)         (None, 20, 30, 30)        0         \n",
            "                                                                 \n",
            " max_pooling2d (MaxPooling2  (None, 10, 15, 30)        0         \n",
            " D)                                                              \n",
            "                                                                 \n",
            " dropout_2 (Dropout)         (None, 10, 15, 30)        0         \n",
            "                                                                 \n",
            " flatten (Flatten)           (None, 4500)              0         \n",
            "                                                                 \n",
            " dropout_3 (Dropout)         (None, 4500)              0         \n",
            "                                                                 \n",
            " dense (Dense)               (None, 128)               576128    \n",
            "                                                                 \n",
            " batch_normalization (Batch  (None, 128)               512       \n",
            " Normalization)                                                  \n",
            "                                                                 \n",
            " dropout_4 (Dropout)         (None, 128)               0         \n",
            "                                                                 \n",
            " dense_1 (Dense)             (None, 128)               16512     \n",
            "                                                                 \n",
            " dropout_5 (Dropout)         (None, 128)               0         \n",
            "                                                                 \n",
            " dense_2 (Dense)             (None, 10)                1290      \n",
            "                                                                 \n",
            " activation (Activation)     (None, 10)                0         \n",
            "                                                                 \n",
            "=================================================================\n",
            "Total params: 595002 (2.27 MB)\n",
            "Trainable params: 594746 (2.27 MB)\n",
            "Non-trainable params: 256 (1.00 KB)\n",
            "_________________________________________________________________\n"
          ]
        }
      ]
    },
    {
      "cell_type": "code",
      "source": [
        "# loss function for one-hot vector\n",
        "# use of adam optimizer\n",
        "# accuracy is good metric for classification tasks\n",
        "model.compile(loss='categorical_crossentropy',\n",
        "              optimizer='adam',\n",
        "              metrics=['accuracy'])\n",
        "\n",
        "# train the network\n",
        "history = model.fit(x_train, y_train, epochs=20, batch_size=batch_size, validation_split=0.2)\n",
        "\n"
      ],
      "metadata": {
        "colab": {
          "base_uri": "https://localhost:8080/"
        },
        "id": "PhqEBERbnRY-",
        "outputId": "acb88a7f-9632-47d1-9d1b-ab77249f8bd1"
      },
      "execution_count": null,
      "outputs": [
        {
          "output_type": "stream",
          "name": "stdout",
          "text": [
            "Epoch 1/20\n",
            "313/313 [==============================] - 49s 153ms/step - loss: 2.2714 - accuracy: 0.2083 - val_loss: 1.9987 - val_accuracy: 0.2472\n",
            "Epoch 2/20\n",
            "313/313 [==============================] - 50s 159ms/step - loss: 1.8525 - accuracy: 0.3189 - val_loss: 1.8288 - val_accuracy: 0.3392\n",
            "Epoch 3/20\n",
            "313/313 [==============================] - 45s 145ms/step - loss: 1.7440 - accuracy: 0.3640 - val_loss: 1.6679 - val_accuracy: 0.4169\n",
            "Epoch 4/20\n",
            "313/313 [==============================] - 46s 148ms/step - loss: 1.6709 - accuracy: 0.3916 - val_loss: 1.4917 - val_accuracy: 0.4664\n",
            "Epoch 5/20\n",
            "313/313 [==============================] - 49s 155ms/step - loss: 1.6155 - accuracy: 0.4102 - val_loss: 1.5093 - val_accuracy: 0.4462\n",
            "Epoch 6/20\n",
            "313/313 [==============================] - 48s 153ms/step - loss: 1.5732 - accuracy: 0.4270 - val_loss: 1.4869 - val_accuracy: 0.4642\n",
            "Epoch 7/20\n",
            "313/313 [==============================] - 46s 147ms/step - loss: 1.5559 - accuracy: 0.4308 - val_loss: 1.4594 - val_accuracy: 0.4812\n",
            "Epoch 8/20\n",
            "313/313 [==============================] - 52s 168ms/step - loss: 1.5450 - accuracy: 0.4405 - val_loss: 1.4515 - val_accuracy: 0.4756\n",
            "Epoch 9/20\n",
            "313/313 [==============================] - 49s 155ms/step - loss: 1.5286 - accuracy: 0.4451 - val_loss: 1.4069 - val_accuracy: 0.5016\n",
            "Epoch 10/20\n",
            "313/313 [==============================] - 47s 152ms/step - loss: 1.5233 - accuracy: 0.4495 - val_loss: 1.4412 - val_accuracy: 0.4833\n",
            "Epoch 11/20\n",
            "313/313 [==============================] - 51s 162ms/step - loss: 1.5103 - accuracy: 0.4578 - val_loss: 1.4838 - val_accuracy: 0.4896\n",
            "Epoch 12/20\n",
            "313/313 [==============================] - 48s 152ms/step - loss: 1.4999 - accuracy: 0.4559 - val_loss: 1.4219 - val_accuracy: 0.4937\n",
            "Epoch 13/20\n",
            "313/313 [==============================] - 49s 157ms/step - loss: 1.4989 - accuracy: 0.4626 - val_loss: 1.3930 - val_accuracy: 0.5107\n",
            "Epoch 14/20\n",
            "313/313 [==============================] - 50s 159ms/step - loss: 1.4896 - accuracy: 0.4652 - val_loss: 1.3900 - val_accuracy: 0.5112\n",
            "Epoch 15/20\n",
            "313/313 [==============================] - 48s 154ms/step - loss: 1.4846 - accuracy: 0.4651 - val_loss: 1.3689 - val_accuracy: 0.5219\n",
            "Epoch 16/20\n",
            "313/313 [==============================] - 49s 157ms/step - loss: 1.4801 - accuracy: 0.4711 - val_loss: 1.3919 - val_accuracy: 0.5145\n",
            "Epoch 17/20\n",
            "313/313 [==============================] - 51s 164ms/step - loss: 1.4710 - accuracy: 0.4696 - val_loss: 1.4076 - val_accuracy: 0.5064\n",
            "Epoch 18/20\n",
            "313/313 [==============================] - 48s 153ms/step - loss: 1.4695 - accuracy: 0.4709 - val_loss: 1.3848 - val_accuracy: 0.5138\n",
            "Epoch 19/20\n",
            "313/313 [==============================] - 52s 165ms/step - loss: 1.4637 - accuracy: 0.4747 - val_loss: 1.3458 - val_accuracy: 0.5259\n",
            "Epoch 20/20\n",
            "313/313 [==============================] - 49s 157ms/step - loss: 1.4597 - accuracy: 0.4769 - val_loss: 1.3622 - val_accuracy: 0.5233\n"
          ]
        }
      ]
    },
    {
      "cell_type": "code",
      "source": [
        "# validate the model on test dataset to determine generalization\n",
        "_, acc = model.evaluate(x_test, y_test, batch_size=batch_size, verbose=False)\n",
        "print(\"\\nTest accuracy: %.1f%%\" % (100.0 * acc))"
      ],
      "metadata": {
        "colab": {
          "base_uri": "https://localhost:8080/"
        },
        "id": "cf8w8CuinUDi",
        "outputId": "0cabd6e3-4be1-4855-8cbf-302bb8674765"
      },
      "execution_count": null,
      "outputs": [
        {
          "output_type": "stream",
          "name": "stdout",
          "text": [
            "\n",
            "Test accuracy: 25.8%\n"
          ]
        }
      ]
    },
    {
      "cell_type": "code",
      "source": [
        "import matplotlib.pyplot as plt\n",
        "\n",
        "print(history.params)\n",
        "print(history.history.keys())\n",
        "\n",
        "_, axs = plt.subplots(2, 1, sharex=True, figsize=(8, 5))\n",
        "axs[0].plot(history.history['loss'], marker='.', linewidth=1)\n",
        "axs[0].plot(history.history['val_loss'], marker='.', linewidth=1)\n",
        "axs[0].set_ylabel(r\"Loss\")\n",
        "axs[1].plot(history.history['accuracy'], marker='.', linewidth=1)\n",
        "axs[1].plot(history.history['val_accuracy'], marker='.', linewidth=1)\n",
        "axs[1].set_ylabel(r\"Accuracy\")\n",
        "axs[1].set_xlabel(r\"Epoch\")\n",
        "axs[0].legend([\"train\", \"validation\"], loc=\"upper right\")\n",
        "plt.show()"
      ],
      "metadata": {
        "colab": {
          "base_uri": "https://localhost:8080/",
          "height": 499
        },
        "id": "yMhR7-3ynXHX",
        "outputId": "3adce7fb-baff-4b19-a1b3-d3cd06d8c6e7"
      },
      "execution_count": null,
      "outputs": [
        {
          "output_type": "stream",
          "name": "stdout",
          "text": [
            "{'verbose': 1, 'epochs': 20, 'steps': 313}\n",
            "dict_keys(['loss', 'accuracy', 'val_loss', 'val_accuracy'])\n"
          ]
        },
        {
          "output_type": "display_data",
          "data": {
            "text/plain": [
              "<Figure size 800x500 with 2 Axes>"
            ],
            "image/png": "[encoded data removed]"
          },
          "metadata": {}
        }
      ]
    },
    {
      "cell_type": "markdown",
      "source": [
        "# Experimento 3\n",
        "\n",
        "En este experimento, se busca modificar los hiper parámetros del modelo tal como lo es la tasa de aprendizaje, el tamaño de los batches, y el número de épocas con el fin de explorar el impacto que tienen estos parámetros en el modelo. Al final, se reportarán los resultados al modificar estas variables.\n",
        "\n",
        "#### Qué son los hiperparámetros\n",
        "Los hiperparámetros son variables que forman parte de la configuración externa de un modelo. Estos son definidos de forma previa al entrenamiento del modelo. Algunos ejemplos de hiperparámetros incluyen el número de nodos y capas en una red neuronal, el número de épicas, el tamaño de los batches de entrenamiento, etc. [6].\n",
        "\n",
        "Los hiperparámetros afectan componentes relevantes de una red neuronal tales como su arquitectura y el rendimiento del modelo.\n",
        "\n",
        "#### Modificando hiperparámetros\n",
        "\n",
        "A continuación, se modifican los hiperparámetros del modelo base presentado en el experimento 1 con el objetivo de comparar cómo cambian los resultados de un mismo modelo al variar los valores del hiperparámetros.\n",
        "\n",
        "En este modelo se tienen los siguientes hiperparámetros:\n",
        "* `hidden_units`\n",
        "* `dropout`\n",
        "* `batch_size`\n",
        "* `epochs`\n",
        "* `validation_split`\n",
        "\n",
        "Dados estos hiperparámetros, se realizaron las siguientes modificaciones:\n",
        "para la variable `hidden_units` y `batch_size` se pasó de `128` a `64`. El valor de dropout pasará a `0.30` y la variable `validation_split` se quedará igual. Para las épocas `epochs`, este modelo se entranará ahora con `15` en lugar de `20`."
      ],
      "metadata": {
        "id": "hdZKSoDdmXQo"
      }
    },
    {
      "cell_type": "code",
      "source": [
        "import tensorflow as tf\n",
        "from tensorflow.keras.models import Sequential\n",
        "from tensorflow.keras.layers import Conv2D, MaxPooling2D, Flatten, Dense, Dropout, Activation\n",
        "from tensorflow.keras.datasets import cifar10\n",
        "from tensorflow.keras.utils import to_categorical\n",
        "import numpy as np\n",
        "\n",
        "# Cargar el conjunto de datos CIFAR-10\n",
        "(x_train, y_train), (x_test, y_test) = cifar10.load_data()\n",
        "\n",
        "# network (hyper-)parameters\n",
        "hidden_units = 64\n",
        "dropout = 0.30\n",
        "batch_size = 64\n",
        "# compute the number of labels: [0, 1, ..., 9]\n",
        "num_labels = len(np.unique(y_train))\n",
        "\n",
        "# convert to one-hot vector: e.g., 2 -> [0, 0, 1, ..., 0]\n",
        "y_train = to_categorical(y_train)\n",
        "y_test = to_categorical(y_test)\n",
        "\n",
        "# Normalizar las imágenes de entrada: ajustar los valores de los píxeles de las imágenes\n",
        "x_train = x_train.astype('float32') / 255.0\n",
        "x_test = x_test.astype('float32') / 255.0\n",
        "\n",
        "# Definir la arquitectura del modelo\n",
        "model = Sequential()\n",
        "\n",
        "# Convolutional layer with 32 filters, 3×3 kernel size, and ReLU activation.\n",
        "model.add(Conv2D(32, (3, 3), activation='relu', input_shape=(32, 32, 3)))\n",
        "model.add(Dropout(dropout))\n",
        "\n",
        "# MaxPooling layer with 2×2 pool size.\n",
        "model.add(MaxPooling2D(pool_size=(2, 2)))\n",
        "model.add(Dropout(dropout))\n",
        "\n",
        "# Flatten layer\n",
        "model.add(Flatten())\n",
        "model.add(Dropout(dropout))\n",
        "\n",
        "# Dense layer with 128 units and ReLU activation.\n",
        "model.add(Dense(hidden_units, activation='relu'))\n",
        "model.add(Dropout(dropout))\n",
        "\n",
        "# --> output layer\n",
        "model.add(Dense(num_labels))\n",
        "model.add(Activation('softmax'))\n",
        "\n",
        "model.summary()"
      ],
      "metadata": {
        "id": "eNR2WNq0p7Rf",
        "colab": {
          "base_uri": "https://localhost:8080/"
        },
        "outputId": "2eeeb4e0-348a-4299-a255-11028e252e89"
      },
      "execution_count": null,
      "outputs": [
        {
          "output_type": "stream",
          "name": "stdout",
          "text": [
            "Downloading data from https://www.cs.toronto.edu/~kriz/cifar-10-python.tar.gz\n",
            "170498071/170498071 [==============================] - 4s 0us/step\n",
            "Model: \"sequential\"\n",
            "_________________________________________________________________\n",
            " Layer (type)                Output Shape              Param #   \n",
            "=================================================================\n",
            " conv2d (Conv2D)             (None, 30, 30, 32)        896       \n",
            "                                                                 \n",
            " dropout (Dropout)           (None, 30, 30, 32)        0         \n",
            "                                                                 \n",
            " max_pooling2d (MaxPooling2  (None, 15, 15, 32)        0         \n",
            " D)                                                              \n",
            "                                                                 \n",
            " dropout_1 (Dropout)         (None, 15, 15, 32)        0         \n",
            "                                                                 \n",
            " flatten (Flatten)           (None, 7200)              0         \n",
            "                                                                 \n",
            " dropout_2 (Dropout)         (None, 7200)              0         \n",
            "                                                                 \n",
            " dense (Dense)               (None, 64)                460864    \n",
            "                                                                 \n",
            " dropout_3 (Dropout)         (None, 64)                0         \n",
            "                                                                 \n",
            " dense_1 (Dense)             (None, 10)                650       \n",
            "                                                                 \n",
            " activation (Activation)     (None, 10)                0         \n",
            "                                                                 \n",
            "=================================================================\n",
            "Total params: 462410 (1.76 MB)\n",
            "Trainable params: 462410 (1.76 MB)\n",
            "Non-trainable params: 0 (0.00 Byte)\n",
            "_________________________________________________________________\n"
          ]
        }
      ]
    },
    {
      "cell_type": "markdown",
      "source": [
        "Al crear esta arquitectura para el modelo, ya pueden observar algunas diferencias. La más importante es la cantidad total de parámetros que toma el modelo en consideración para generar resultados que identifiquen a las imágenes del dataset CIFAR10. Previamente se tenían `923914` parámetros entrenables. En esta segunda iteración, ahora se cuenta con `462410` parámetros entrenables.\n",
        "\n",
        "El hecho de que se haya reducido la cantidad de parámetros entrenables tiene varias implicaciones. Primero, un modelo con menos parámetros puede ser menos propenso a sobreajustarse a los datos de entrenamiento, lo que potencialmente mejora su capacidad de generalización en datos no vistos. Segundo, con menos parámetros, el modelo requiere menos memoria y puede ser más rápido tanto en el entrenamiento como en la inferencia."
      ],
      "metadata": {
        "id": "jGRdux3JJM5A"
      }
    },
    {
      "cell_type": "code",
      "source": [
        "# loss function for one-hot vector\n",
        "# use of adam optimizer\n",
        "# accuracy is good metric for classification tasks\n",
        "model.compile(loss='categorical_crossentropy',\n",
        "              optimizer='adam',\n",
        "              metrics=['accuracy'])\n",
        "\n",
        "# train the network\n",
        "history = model.fit(x_train, y_train, epochs=15, batch_size=batch_size, validation_split=0.2)\n",
        "\n"
      ],
      "metadata": {
        "colab": {
          "base_uri": "https://localhost:8080/"
        },
        "id": "pf7-u8C4JEB-",
        "outputId": "1b4e1903-03e4-4b1b-e7ff-122bbea2ae17"
      },
      "execution_count": null,
      "outputs": [
        {
          "output_type": "stream",
          "name": "stdout",
          "text": [
            "Epoch 1/15\n",
            "625/625 [==============================] - 54s 84ms/step - loss: 1.8084 - accuracy: 0.3381 - val_loss: 1.5280 - val_accuracy: 0.4816\n",
            "Epoch 2/15\n",
            "625/625 [==============================] - 52s 83ms/step - loss: 1.5237 - accuracy: 0.4453 - val_loss: 1.4289 - val_accuracy: 0.5263\n",
            "Epoch 3/15\n",
            "625/625 [==============================] - 52s 83ms/step - loss: 1.4481 - accuracy: 0.4760 - val_loss: 1.3628 - val_accuracy: 0.5375\n",
            "Epoch 4/15\n",
            "625/625 [==============================] - 53s 85ms/step - loss: 1.3895 - accuracy: 0.4952 - val_loss: 1.2922 - val_accuracy: 0.5706\n",
            "Epoch 5/15\n",
            "625/625 [==============================] - 53s 85ms/step - loss: 1.3563 - accuracy: 0.5122 - val_loss: 1.2601 - val_accuracy: 0.5864\n",
            "Epoch 6/15\n",
            "625/625 [==============================] - 52s 83ms/step - loss: 1.3154 - accuracy: 0.5289 - val_loss: 1.2426 - val_accuracy: 0.5909\n",
            "Epoch 7/15\n",
            "625/625 [==============================] - 51s 81ms/step - loss: 1.2964 - accuracy: 0.5321 - val_loss: 1.2237 - val_accuracy: 0.5889\n",
            "Epoch 8/15\n",
            "625/625 [==============================] - 51s 82ms/step - loss: 1.2735 - accuracy: 0.5424 - val_loss: 1.2155 - val_accuracy: 0.6033\n",
            "Epoch 9/15\n",
            "625/625 [==============================] - 53s 85ms/step - loss: 1.2479 - accuracy: 0.5516 - val_loss: 1.1784 - val_accuracy: 0.6068\n",
            "Epoch 10/15\n",
            "625/625 [==============================] - 51s 81ms/step - loss: 1.2296 - accuracy: 0.5597 - val_loss: 1.1541 - val_accuracy: 0.6166\n",
            "Epoch 11/15\n",
            "625/625 [==============================] - 52s 84ms/step - loss: 1.2196 - accuracy: 0.5609 - val_loss: 1.1643 - val_accuracy: 0.6092\n",
            "Epoch 12/15\n",
            "625/625 [==============================] - 54s 87ms/step - loss: 1.2008 - accuracy: 0.5673 - val_loss: 1.1394 - val_accuracy: 0.6241\n",
            "Epoch 13/15\n",
            "625/625 [==============================] - 51s 81ms/step - loss: 1.1877 - accuracy: 0.5734 - val_loss: 1.1288 - val_accuracy: 0.6225\n",
            "Epoch 14/15\n",
            "625/625 [==============================] - 52s 83ms/step - loss: 1.1705 - accuracy: 0.5819 - val_loss: 1.1211 - val_accuracy: 0.6326\n",
            "Epoch 15/15\n",
            "625/625 [==============================] - 54s 87ms/step - loss: 1.1719 - accuracy: 0.5795 - val_loss: 1.1506 - val_accuracy: 0.6101\n"
          ]
        }
      ]
    },
    {
      "cell_type": "code",
      "source": [
        "# validate the model on test dataset to determine generalization\n",
        "_, acc = model.evaluate(x_test, y_test, batch_size=batch_size, verbose=False)\n",
        "print(\"\\nTest accuracy: %.1f%%\" % (100.0 * acc))"
      ],
      "metadata": {
        "colab": {
          "base_uri": "https://localhost:8080/"
        },
        "id": "A2gY2Vo2OhtG",
        "outputId": "42ff6820-55ff-421e-cb58-bae640ec223f"
      },
      "execution_count": null,
      "outputs": [
        {
          "output_type": "stream",
          "name": "stdout",
          "text": [
            "\n",
            "Test accuracy: 60.9%\n"
          ]
        }
      ]
    },
    {
      "cell_type": "markdown",
      "source": [
        "Después de haber entrenado el modelo con `15` épocas, se puede apreciar por los tiempos de entrenamiento en cada una que el segundo modelo terminó de entrenarse más rápido. El tiempo total de entrenamiento de este modelo fue de `785` segundos, mientras que el primer modelo que contaba con `20` épocas tuvo un tiempo total de entrenamiento de `976` segundos.\n",
        "\n",
        "Si se compara la precisión del primer modelo `(64.3%)` con el segundo modelo `(60.9%)`, se puede ver que el cambio no es mucho tomando en cuenta la considerable diferencia en cantidad de tiempo de entrenamiento. Esta comparativa muestra la verdadera importancia de una buena configuración de hiperparámetros en el entranamiento de modelos de inteligencia artifical.\n",
        "\n",
        "Este análisis es un primer acercamiento al entrenamiento de modelos de inteligencia artificial, específicamente redes neuronales convolutivas. Cabe agregar que los datos del conjunto CIFAR10 están limpios, bien estructurados y correctamente etiquetados. Al momento de pasar a consumir datos que se encuentran en el mundo real, por ejemplo datos que genera un negocio, no está garantizado que estos datos estén limpios sin antes pasar por un pipeline de datos, incrementando así el tiempo que toma obtener un modelo listo para hacer inferencias. Pasando al contexto de los negocios, el tiempo es muy importante, y puede que los hiperparámetros correctos hagan toda la diferencia entre un modelo eficiente y otro que no lo sea.\n",
        "\n",
        "Una diferencia de `194` segundos por una mejora del `4%` en la precisión del modelo es un intercambio que probablemente no sea favorable en un contexto de producción. Más aún cuando el tiempo de entrenamiento en modelos utilizados empresarialmente pueden ser horas o incluso días con modelos más complejos."
      ],
      "metadata": {
        "id": "1MpUUxw8ROiC"
      }
    },
    {
      "cell_type": "code",
      "source": [
        "import matplotlib.pyplot as plt\n",
        "\n",
        "print(history.params)\n",
        "print(history.history.keys())\n",
        "\n",
        "_, axs = plt.subplots(2, 1, sharex=True, figsize=(8, 5))\n",
        "axs[0].plot(history.history['loss'], marker='.', linewidth=1)\n",
        "axs[0].plot(history.history['val_loss'], marker='.', linewidth=1)\n",
        "axs[0].set_ylabel(r\"Loss\")\n",
        "axs[1].plot(history.history['accuracy'], marker='.', linewidth=1)\n",
        "axs[1].plot(history.history['val_accuracy'], marker='.', linewidth=1)\n",
        "axs[1].set_ylabel(r\"Accuracy\")\n",
        "axs[1].set_xlabel(r\"Epoch\")\n",
        "axs[0].legend([\"train\", \"validation\"], loc=\"upper right\")\n",
        "plt.show()"
      ],
      "metadata": {
        "colab": {
          "base_uri": "https://localhost:8080/",
          "height": 500
        },
        "id": "QOXc3Ut8OoYB",
        "outputId": "c8394717-e70b-4890-97e8-f5e6b2a8eb25"
      },
      "execution_count": null,
      "outputs": [
        {
          "output_type": "stream",
          "name": "stdout",
          "text": [
            "{'verbose': 1, 'epochs': 15, 'steps': 625}\n",
            "dict_keys(['loss', 'accuracy', 'val_loss', 'val_accuracy'])\n"
          ]
        },
        {
          "output_type": "display_data",
          "data": {
            "text/plain": [
              "<Figure size 800x500 with 2 Axes>"
            ],
            "image/png": "[encoded data removed]"
          },
          "metadata": {}
        }
      ]
    },
    {
      "cell_type": "markdown",
      "source": [
        "En la figura anterior se presenta la disminución de la pérdida y el aumento de la precisión del modelo conforme pasan las épocas. A diferencia del modelo anterior, se puede apreciar un comportamiento de ajuste similar al del modelo presentado en el experimento 1.\n",
        "\n",
        "Nuevamente se puede argumentar que con el aumento de las épocas la precisión del modelo no aumente, lo que permite que en futuras iteraciones del modelo los cambios deban ser en la arquitectura de la red neuronal; específicamente en aumentando capas densas o con capas convolutivas adicionales."
      ],
      "metadata": {
        "id": "Vr7Y9T5UVOQC"
      }
    },
    {
      "cell_type": "markdown",
      "source": [
        "# Experimento 4\n",
        "\n",
        "En esta cuarta entrega, se comparará el modelo base presentado en el experimento 1 con una nueva iteración del modelo utilizando técnicas más avanzadas con el objetivo de eficientar el rendimiento del modelo base.\n",
        "\n",
        "En esta arquitectura, se utilizaron las técnicas de Data Augmentation y Batch Normalization.\n",
        "\n",
        "### Batch normalization\n",
        "La normalización en machine learning busca estandarizar los datos de entrada con el objetivo de mitigar el impacto que tienen los valores \"outliers\" en el modelo, mejorar el tiempo de convergencia y en general asegurar una comparativa justa entre caractarísticas del dataset. [7]\n",
        "\n",
        "Específicamente, la normalización por lotes (batch normalization) es un técnica que normaliza los resultados resultados de la activación en cada capa durante el entrenamiento de un modelo de inteligencia artificial. La normalización es aplicada después de las capas de transformación o las capas convolutivas, y antes de las funciones de activación no lineales, en este caso las funciones ReLU. [8]\n",
        "\n",
        "Las ventajas de utilizar la normalización por lotes incluyen:\n",
        "* Estabilizar el proceso de entrenamiento\n",
        "* Mejora la generalización, reduciendo el sobre-ajustado del modelo.\n",
        "* Reduce el impacto de los pesos en la inicialización del modelo.\n",
        "* Disminuye el tiempo de entrenamiento al aumentar la tasa de aprendizaje.\n",
        "\n",
        "### Data augmentation\n",
        "El aumento de datos, o data augmentation en inglés, \"es un proceso para generar artificialmente nuevos datos a partir de datos existentes [...] para entrenar nuevos modelos de machine learning\" (AWS, 2024). Con el aumento de datos se pueden generar nuevas variantes que posiblemente el conjunto de datos original no tiene, ayudando al modelo a que mejore su precisión y evitar que caiga en un sobreajuste.\n",
        "\n",
        "Dentro de las ventajas de el aumento de datos se encuentran:\n",
        "* Rendimiento mejorado del modelo para inferencias.\n",
        "* Reducción de dependencia de los datos.\n",
        "* Reduce riesgo de sobreajuste en el modelo."
      ],
      "metadata": {
        "id": "nrutpZ3CDOlF"
      }
    },
    {
      "cell_type": "code",
      "source": [
        "import tensorflow as tf\n",
        "from tensorflow.keras.models import Sequential\n",
        "from tensorflow.keras.layers import Conv2D, MaxPooling2D, Flatten, Dense, Dropout, Activation, BatchNormalization\n",
        "from tensorflow.keras.datasets import cifar10\n",
        "from tensorflow.keras.utils import to_categorical\n",
        "from tensorflow.keras.preprocessing.image import ImageDataGenerator\n",
        "import numpy as np\n",
        "\n",
        "# Cargar el conjunto de datos CIFAR-10\n",
        "(x_train, y_train), (x_test, y_test) = cifar10.load_data()\n",
        "\n",
        "\n",
        "# network (hyper-)parameters\n",
        "hidden_units = 128\n",
        "dropout = 0.45\n",
        "batch_size = 128\n",
        "# compute the number of labels: [0, 1, ..., 9]\n",
        "num_labels = len(np.unique(y_train))\n",
        "\n",
        "# convert to one-hot vector: e.g., 2 -> [0, 0, 1, ..., 0]\n",
        "y_train = to_categorical(y_train)\n",
        "y_test = to_categorical(y_test)\n",
        "\n",
        "# Normalizar las imágenes de entrada: ajustar los valores de los píxeles de las imágenes\n",
        "x_train = x_train.astype('float32') / 255.0\n",
        "x_test = x_test.astype('float32') / 255.0\n",
        "\n",
        "\n",
        "# Define data augmentation\n",
        "datagen = ImageDataGenerator(\n",
        "    rotation_range=15,\n",
        "    width_shift_range=0.1,\n",
        "    height_shift_range=0.1,\n",
        "    horizontal_flip=True,\n",
        "    zoom_range=0.1,\n",
        "    shear_range=0.1,\n",
        "    fill_mode='nearest'\n",
        ")\n",
        "\n",
        "datagen.fit(x_train)\n",
        "\n",
        "# Definir la arquitectura del modelo\n",
        "model = Sequential()\n",
        "\n",
        "# Convolutional layer with 32 filters, 3×3 kernel size.\n",
        "model.add(Conv2D(32, (3, 3), input_shape=(32, 32, 3)))\n",
        "model.add(BatchNormalization())  # Batch Normalization layer\n",
        "model.add(Activation('relu'))    # Activation layer\n",
        "model.add(Dropout(dropout))\n",
        "\n",
        "# MaxPooling layer with 2×2 pool size.\n",
        "model.add(MaxPooling2D(pool_size=(2, 2)))\n",
        "model.add(Dropout(dropout))\n",
        "\n",
        "# Flatten layer\n",
        "model.add(Flatten())\n",
        "model.add(Dropout(dropout))\n",
        "\n",
        "# Dense layer with 128 units.\n",
        "model.add(Dense(hidden_units))\n",
        "model.add(BatchNormalization())  # Batch Normalization layer\n",
        "model.add(Activation('relu'))    # Activation layer\n",
        "model.add(Dropout(dropout))\n",
        "\n",
        "# --> output layer\n",
        "model.add(Dense(num_labels))\n",
        "model.add(Activation('softmax'))\n",
        "\n",
        "model.summary()\n"
      ],
      "metadata": {
        "colab": {
          "base_uri": "https://localhost:8080/"
        },
        "id": "SSS39EnPDq-T",
        "outputId": "e5ced1f2-b24b-4d31-906d-423b5be0e08c"
      },
      "execution_count": 3,
      "outputs": [
        {
          "output_type": "stream",
          "name": "stdout",
          "text": [
            "Downloading data from https://www.cs.toronto.edu/~kriz/cifar-10-python.tar.gz\n",
            "170498071/170498071 [==============================] - 3s 0us/step\n",
            "Model: \"sequential\"\n",
            "_________________________________________________________________\n",
            " Layer (type)                Output Shape              Param #   \n",
            "=================================================================\n",
            " conv2d (Conv2D)             (None, 30, 30, 32)        896       \n",
            "                                                                 \n",
            " batch_normalization (Batch  (None, 30, 30, 32)        128       \n",
            " Normalization)                                                  \n",
            "                                                                 \n",
            " activation (Activation)     (None, 30, 30, 32)        0         \n",
            "                                                                 \n",
            " dropout (Dropout)           (None, 30, 30, 32)        0         \n",
            "                                                                 \n",
            " max_pooling2d (MaxPooling2  (None, 15, 15, 32)        0         \n",
            " D)                                                              \n",
            "                                                                 \n",
            " dropout_1 (Dropout)         (None, 15, 15, 32)        0         \n",
            "                                                                 \n",
            " flatten (Flatten)           (None, 7200)              0         \n",
            "                                                                 \n",
            " dropout_2 (Dropout)         (None, 7200)              0         \n",
            "                                                                 \n",
            " dense (Dense)               (None, 128)               921728    \n",
            "                                                                 \n",
            " batch_normalization_1 (Bat  (None, 128)               512       \n",
            " chNormalization)                                                \n",
            "                                                                 \n",
            " activation_1 (Activation)   (None, 128)               0         \n",
            "                                                                 \n",
            " dropout_3 (Dropout)         (None, 128)               0         \n",
            "                                                                 \n",
            " dense_1 (Dense)             (None, 10)                1290      \n",
            "                                                                 \n",
            " activation_2 (Activation)   (None, 10)                0         \n",
            "                                                                 \n",
            "=================================================================\n",
            "Total params: 924554 (3.53 MB)\n",
            "Trainable params: 924234 (3.53 MB)\n",
            "Non-trainable params: 320 (1.25 KB)\n",
            "_________________________________________________________________\n"
          ]
        }
      ]
    },
    {
      "cell_type": "markdown",
      "source": [
        "Después de ejecutar el código con la arquitectura del modelo, se puede observar que hay una mayor número de parámetros entrenables `(924243)` a diferencia del modelo base que tiene `(923914)` parámetros entrenables.\n",
        "\n",
        "Este incremento se debe en su mayoría a que la normalización en lotes agrega el parámetro de escala (γ) y el parámetro de cambio (β) a cada característica del modelo."
      ],
      "metadata": {
        "id": "Gm84lqKrjXxb"
      }
    },
    {
      "cell_type": "code",
      "source": [
        "# loss function for one-hot vector\n",
        "# use of adam optimizer\n",
        "# accuracy is good metric for classification tasks\n",
        "model.compile(loss='categorical_crossentropy',\n",
        "              optimizer='adam',\n",
        "              metrics=['accuracy'])\n",
        "\n",
        "# train the network\n",
        "history = model.fit(x_train, y_train, epochs=20, batch_size=batch_size, validation_split=0.2)\n",
        "\n"
      ],
      "metadata": {
        "colab": {
          "base_uri": "https://localhost:8080/"
        },
        "id": "ab2fEBORDu4t",
        "outputId": "fe28ea08-2897-44c5-bafa-47a5afb4b700"
      },
      "execution_count": 4,
      "outputs": [
        {
          "output_type": "stream",
          "name": "stdout",
          "text": [
            "Epoch 1/20\n",
            "313/313 [==============================] - 65s 201ms/step - loss: 1.7316 - accuracy: 0.3921 - val_loss: 3.2405 - val_accuracy: 0.1118\n",
            "Epoch 2/20\n",
            "313/313 [==============================] - 62s 199ms/step - loss: 1.4365 - accuracy: 0.4805 - val_loss: 1.6975 - val_accuracy: 0.4311\n",
            "Epoch 3/20\n",
            "313/313 [==============================] - 64s 206ms/step - loss: 1.3610 - accuracy: 0.5128 - val_loss: 1.6038 - val_accuracy: 0.4632\n",
            "Epoch 4/20\n",
            "313/313 [==============================] - 62s 198ms/step - loss: 1.3149 - accuracy: 0.5299 - val_loss: 1.3029 - val_accuracy: 0.5532\n",
            "Epoch 5/20\n",
            "313/313 [==============================] - 62s 199ms/step - loss: 1.2796 - accuracy: 0.5413 - val_loss: 1.2283 - val_accuracy: 0.5716\n",
            "Epoch 6/20\n",
            "313/313 [==============================] - 61s 193ms/step - loss: 1.2469 - accuracy: 0.5558 - val_loss: 1.2307 - val_accuracy: 0.5869\n",
            "Epoch 7/20\n",
            "313/313 [==============================] - 63s 203ms/step - loss: 1.2213 - accuracy: 0.5662 - val_loss: 1.2828 - val_accuracy: 0.5276\n",
            "Epoch 8/20\n",
            "313/313 [==============================] - 60s 193ms/step - loss: 1.1988 - accuracy: 0.5716 - val_loss: 1.4409 - val_accuracy: 0.4822\n",
            "Epoch 9/20\n",
            "313/313 [==============================] - 64s 203ms/step - loss: 1.1806 - accuracy: 0.5815 - val_loss: 1.1832 - val_accuracy: 0.5911\n",
            "Epoch 10/20\n",
            "313/313 [==============================] - 61s 194ms/step - loss: 1.1649 - accuracy: 0.5881 - val_loss: 1.1871 - val_accuracy: 0.5976\n",
            "Epoch 11/20\n",
            "313/313 [==============================] - 62s 197ms/step - loss: 1.1450 - accuracy: 0.5904 - val_loss: 1.1529 - val_accuracy: 0.5975\n",
            "Epoch 12/20\n",
            "313/313 [==============================] - 63s 200ms/step - loss: 1.1379 - accuracy: 0.5935 - val_loss: 1.1911 - val_accuracy: 0.6067\n",
            "Epoch 13/20\n",
            "313/313 [==============================] - 61s 194ms/step - loss: 1.1198 - accuracy: 0.6019 - val_loss: 1.1265 - val_accuracy: 0.6041\n",
            "Epoch 14/20\n",
            "313/313 [==============================] - 63s 203ms/step - loss: 1.1049 - accuracy: 0.6043 - val_loss: 1.2833 - val_accuracy: 0.5465\n",
            "Epoch 15/20\n",
            "313/313 [==============================] - 60s 193ms/step - loss: 1.1017 - accuracy: 0.6090 - val_loss: 1.3290 - val_accuracy: 0.5356\n",
            "Epoch 16/20\n",
            "313/313 [==============================] - 62s 198ms/step - loss: 1.0930 - accuracy: 0.6107 - val_loss: 1.0705 - val_accuracy: 0.6364\n",
            "Epoch 17/20\n",
            "313/313 [==============================] - 62s 198ms/step - loss: 1.0857 - accuracy: 0.6142 - val_loss: 1.3079 - val_accuracy: 0.5411\n",
            "Epoch 18/20\n",
            "313/313 [==============================] - 62s 197ms/step - loss: 1.0798 - accuracy: 0.6188 - val_loss: 1.0780 - val_accuracy: 0.6289\n",
            "Epoch 19/20\n",
            "313/313 [==============================] - 62s 197ms/step - loss: 1.0671 - accuracy: 0.6195 - val_loss: 1.1276 - val_accuracy: 0.6189\n",
            "Epoch 20/20\n",
            "313/313 [==============================] - 60s 193ms/step - loss: 1.0602 - accuracy: 0.6236 - val_loss: 1.0704 - val_accuracy: 0.6367\n"
          ]
        }
      ]
    },
    {
      "cell_type": "code",
      "source": [
        "# validate the model on test dataset to determine generalization\n",
        "_, acc = model.evaluate(x_test, y_test, batch_size=batch_size, verbose=False)\n",
        "print(\"\\nTest accuracy: %.1f%%\" % (100.0 * acc))"
      ],
      "metadata": {
        "colab": {
          "base_uri": "https://localhost:8080/"
        },
        "id": "buhkEp2qDztX",
        "outputId": "e0580b87-d3ec-44a0-caec-fab53650e8a3"
      },
      "execution_count": 5,
      "outputs": [
        {
          "output_type": "stream",
          "name": "stdout",
          "text": [
            "\n",
            "Test accuracy: 63.2%\n"
          ]
        }
      ]
    },
    {
      "cell_type": "markdown",
      "source": [
        "Después del entrenamiento con los mismos hiperparámetros que el modelo base, pero con la arquitectura del modelo nueva, se tiene una precisión del `63.4%`. hubo un ligero decremento en la precisión del modelo, pues el modelo base tiene una precisión de `64.3%`."
      ],
      "metadata": {
        "id": "CZjkEI2dmH5y"
      }
    },
    {
      "cell_type": "code",
      "source": [
        "import matplotlib.pyplot as plt\n",
        "\n",
        "print(history.params)\n",
        "print(history.history.keys())\n",
        "\n",
        "_, axs = plt.subplots(2, 1, sharex=True, figsize=(8, 5))\n",
        "axs[0].plot(history.history['loss'], marker='.', linewidth=1)\n",
        "axs[0].plot(history.history['val_loss'], marker='.', linewidth=1)\n",
        "axs[0].set_ylabel(r\"Loss\")\n",
        "axs[1].plot(history.history['accuracy'], marker='.', linewidth=1)\n",
        "axs[1].plot(history.history['val_accuracy'], marker='.', linewidth=1)\n",
        "axs[1].set_ylabel(r\"Accuracy\")\n",
        "axs[1].set_xlabel(r\"Epoch\")\n",
        "axs[0].legend([\"train\", \"validation\"], loc=\"upper right\")\n",
        "plt.show()"
      ],
      "metadata": {
        "id": "vyR1cUEkD3oM",
        "colab": {
          "base_uri": "https://localhost:8080/",
          "height": 500
        },
        "outputId": "bf1070e0-8f9a-49d3-8d3e-fdb6d025f459"
      },
      "execution_count": 6,
      "outputs": [
        {
          "output_type": "stream",
          "name": "stdout",
          "text": [
            "{'verbose': 1, 'epochs': 20, 'steps': 313}\n",
            "dict_keys(['loss', 'accuracy', 'val_loss', 'val_accuracy'])\n"
          ]
        },
        {
          "output_type": "display_data",
          "data": {
            "text/plain": [
              "<Figure size 800x500 with 2 Axes>"
            ],
            "image/png": "[encoded data removed]"
          },
          "metadata": {}
        }
      ]
    },
    {
      "cell_type": "markdown",
      "source": [
        "En esta gráfica se presenta la pérdida en ambos conjuntos (entrenamiento y validación) disminuye rápidamente en las primeras pocas épocas, lo que indica que el modelo está aprendiendo y ajustándose a los datos.\n",
        "\n",
        "Después de aproximadamente 5 épocas, tanto la pérdida como la precisión se estabilizan, dando a entender que el modelo ha alcanzado un punto de equilibrio donde no está mejorando significativamente a diferencia de las épocas 1 a 5.\n",
        "\n",
        "Pasando a la pérdida y la precisión. Ambos conjuntos de validación se comportan de manera similar a las del conjunto de entrenamiento, no hay señales de un sobreajuste. Las ligeras fluctuaciones en la precisión indican que el modelo va aprendiendo, y parece ser un comporatamiento normal, puesto que las busquedad de las flucutuaciones disminuye conforme van pasando las épocas.\n"
      ],
      "metadata": {
        "id": "ekzKv8SG_nJp"
      }
    },
    {
      "cell_type": "markdown",
      "source": [
        "# Referencias\n",
        "\n",
        "[1] Learning Multiple Layers of Features from Tiny Images, Alex Krizhevsky, 2009.\n",
        "<br>\n",
        "[2] Budu, E. (2023, 18 junio). What’s a non-trainable parameter. Baeldung. Recuperado 24 de mayo de 2024, de https://www.baeldung.com/cs/non-trainable-parameter\n",
        "<br>\n",
        "[3] Brownlee, J. (2020, 30 junio). Why One-Hot encode data in machine Learning. Machine Learning Mastery. Recuperado 24 de mayo de 2024, de https://machinelearningmastery.com/why-one-hot-encode-data-in-machine-learning/\n",
        "<br>\n",
        "[4] W&B. (2024, 24 mayo). Weights & biases. W&B. https://wandb.ai/mostafaibrahim17/ml-articles/reports/Understanding-the-Difference-in-Performance-Between-Binary-Cross-Entropy-and-Categorical-Cross-Entropy--Vmlldzo0Nzk4NDI2#:~:text=Categorical%20Cross%2DEntropy%3A%20Use%20Cases%20in%20Neural%20Network,-Categorical%20cross%2Dentropy&text=In%20image%20classification%2C%20it%20helps,accurate%20text%20classification%20or%20generation.\n",
        "<br>\n",
        "[5] Gentle Introduction to the Adam Optimization Algorithm for Deep Learning. (2021, 13 enero). Machine Learning Mastery. Recuperado 24 de mayo de 2024, de https://machinelearningmastery.com/adam-optimization-algorithm-for-deep-learning/\n",
        "<br>\n",
        "[6] What is Hyperparameter Tuning? - Hyperparameter Tuning Methods Explained - AWS. (s. f.). Amazon Web Services, Inc. https://aws.amazon.com/what-is/hyperparameter-tuning/#:~:text=computationally%20intensive%20process.-,What%20are%20hyperparameters%3F,set%20before%20training%20a%20model.\n",
        "<br>\n",
        "[7] Kumar, R. (2024, mayo). Batch Normalization: Theory and TensorFlow Implementation. Datacamp. Recuperado 29 de mayo de 2024, de https://www.datacamp.com/tutorial/batch-normalization-tensorflow\n",
        "<br>\n",
        "[8] What is Batch Normalization | Deepchecks. (2022, 25 diciembre). Deepchecks. https://deepchecks.com/glossary/batch-normalization/"
      ],
      "metadata": {
        "id": "41IftJkSzl2g"
      }
    }
  ]
}